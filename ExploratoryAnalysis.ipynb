{
 "cells": [
  {
   "cell_type": "code",
   "execution_count": 1,
   "id": "9e34a1a1-f371-4426-a213-a0fffad4bbac",
   "metadata": {},
   "outputs": [],
   "source": [
    "import os"
   ]
  },
  {
   "cell_type": "code",
   "execution_count": 3,
   "id": "c43a473c-35ef-4790-8e45-7763b5771a39",
   "metadata": {},
   "outputs": [
    {
     "data": {
      "text/plain": [
       "['A00001.hea', 'A00001.mat', 'A00002.hea', 'A00002.mat']"
      ]
     },
     "execution_count": 3,
     "metadata": {},
     "output_type": "execute_result"
    }
   ],
   "source": [
    "sorted(os.listdir(\"training2017\"))[:4]"
   ]
  },
  {
   "cell_type": "code",
   "execution_count": 4,
   "id": "079ed683-0e2d-4e77-98ea-0000b03e9adc",
   "metadata": {},
   "outputs": [],
   "source": [
    "basepath = \"training2017\"\n",
    "first_rec = os.path.join(basepath, \"A00001.mat\")"
   ]
  },
  {
   "cell_type": "code",
   "execution_count": null,
   "id": "34ab0327-fd3c-4895-a406-b575ddb3a86a",
   "metadata": {},
   "outputs": [],
   "source": []
  }
 ],
 "metadata": {
  "kernelspec": {
   "display_name": "Python 3",
   "language": "python",
   "name": "python3"
  },
  "language_info": {
   "codemirror_mode": {
    "name": "ipython",
    "version": 3
   },
   "file_extension": ".py",
   "mimetype": "text/x-python",
   "name": "python",
   "nbconvert_exporter": "python",
   "pygments_lexer": "ipython3",
   "version": "3.9.18"
  }
 },
 "nbformat": 4,
 "nbformat_minor": 5
}
